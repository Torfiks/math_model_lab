{
 "cells": [
  {
   "cell_type": "code",
   "id": "eca0214d-e3f8-4817-a2e0-e5f7826a97c2",
   "metadata": {
    "ExecuteTime": {
     "end_time": "2024-05-16T05:47:53.324925Z",
     "start_time": "2024-05-16T05:47:53.149465Z"
    }
   },
   "source": [
    "import numpy as np"
   ],
   "outputs": [],
   "execution_count": 2
  },
  {
   "cell_type": "code",
   "id": "0bf4d2af-9f72-48eb-a562-14196af7b3a7",
   "metadata": {
    "ExecuteTime": {
     "end_time": "2024-05-16T05:47:53.339992Z",
     "start_time": "2024-05-16T05:47:53.329344Z"
    }
   },
   "source": [
    "length = 1 # длина иглы\n",
    "M = 0 # cчетчик пересечений \n",
    "a = 2 # расстоняние между линиями \n",
    "N = 1000 *10 # кол-во бросков"
   ],
   "outputs": [],
   "execution_count": 3
  },
  {
   "cell_type": "code",
   "id": "c452c431-e496-45a4-a4ca-214348c10133",
   "metadata": {
    "ExecuteTime": {
     "end_time": "2024-05-16T05:47:53.350857Z",
     "start_time": "2024-05-16T05:47:53.344425Z"
    }
   },
   "source": [
    "# размерность листа\n",
    "y_min = 0\n",
    "y_max = 5 * a "
   ],
   "outputs": [],
   "execution_count": 4
  },
  {
   "metadata": {
    "ExecuteTime": {
     "end_time": "2024-05-16T05:50:41.646616Z",
     "start_time": "2024-05-16T05:50:41.554934Z"
    }
   },
   "cell_type": "code",
   "source": [
    "for i in range(N):\n",
    "\n",
    "    y_0 = np.random.random() * (y_max - y_min) + y_min # координаты одного из концов \n",
    "    phi = np.random.random() * (np.pi - 0) + 0 # угол повората угла \n",
    "    y_1 = y_0 + 1 * np.sin(phi) # определим  вторая кооордината иглы\n",
    "    y_line = a\n",
    "    while y_line < y_max:\n",
    "       if (y_line > y_0) and (y_line <= y_1):\n",
    "           M += 1\n",
    "       y_line += a \n",
    "print(f\"Количество пересечений:\\t {M}\\nКоличество бросков:{N}\") \n",
    "pi_est = (2*length)/a * (N/M)\n",
    "print(f\"Оценка числа Pi: {((2*length)/a) * (N/M)}\")\n",
    "print(np.pi)\n",
    "print(abs(np.pi-pi_est))\n",
    "\n",
    "print(abs(np.pi -pi_est)/np.pi*100)"
   ],
   "id": "236560dd55692ff7",
   "outputs": [
    {
     "name": "stdout",
     "output_type": "stream",
     "text": [
      "Количество пересечений:\t 63691\n",
      "Количество бросков:10000\n",
      "Оценка числа Pi: 0.15700805451319652\n",
      "3.141592653589793\n",
      "2.9845845990765967\n",
      "95.00227840379661\n"
     ]
    }
   ],
   "execution_count": 34
  },
  {
   "cell_type": "code",
   "id": "5ece6fe7-d7d3-453c-b9e6-84e594d7ce30",
   "metadata": {
    "ExecuteTime": {
     "end_time": "2024-05-16T05:48:38.361065Z",
     "start_time": "2024-05-16T05:48:38.355568Z"
    }
   },
   "source": [
    "round(np.random.random(),2)"
   ],
   "outputs": [
    {
     "data": {
      "text/plain": [
       "0.18"
      ]
     },
     "execution_count": 24,
     "metadata": {},
     "output_type": "execute_result"
    }
   ],
   "execution_count": 24
  },
  {
   "cell_type": "code",
   "id": "6b0a4623-3100-4d07-87a5-cfec6cb6ecde",
   "metadata": {
    "ExecuteTime": {
     "end_time": "2024-05-16T05:47:53.457087Z",
     "start_time": "2024-05-16T05:47:53.449512Z"
    }
   },
   "source": [],
   "outputs": [],
   "execution_count": 6
  }
 ],
 "metadata": {
  "kernelspec": {
   "display_name": "Python 3 (ipykernel)",
   "language": "python",
   "name": "python3"
  },
  "language_info": {
   "codemirror_mode": {
    "name": "ipython",
    "version": 3
   },
   "file_extension": ".py",
   "mimetype": "text/x-python",
   "name": "python",
   "nbconvert_exporter": "python",
   "pygments_lexer": "ipython3",
   "version": "3.10.12"
  }
 },
 "nbformat": 4,
 "nbformat_minor": 5
}
