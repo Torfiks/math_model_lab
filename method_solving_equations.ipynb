{
 "cells": [
  {
   "cell_type": "code",
   "id": "initial_id",
   "metadata": {
    "collapsed": true,
    "ExecuteTime": {
     "end_time": "2024-06-05T21:12:05.699398Z",
     "start_time": "2024-06-05T21:12:04.870398Z"
    }
   },
   "source": [
    "import numpy as np \n",
    "import matplotlib.pyplot as plt"
   ],
   "outputs": [],
   "execution_count": 1
  },
  {
   "metadata": {},
   "cell_type": "markdown",
   "source": [
    "# Вариант 1\n",
    "16 мая лаба "
   ],
   "id": "3871290c4ea20519"
  },
  {
   "metadata": {
    "ExecuteTime": {
     "end_time": "2024-06-05T21:12:05.704580Z",
     "start_time": "2024-06-05T21:12:05.700979Z"
    }
   },
   "cell_type": "code",
   "source": [
    "a = 1 \n",
    "b = 2\n",
    "xx = 10 ** (-7) # критерий останова "
   ],
   "id": "825ede9073a5ef4a",
   "outputs": [],
   "execution_count": 2
  },
  {
   "metadata": {},
   "cell_type": "markdown",
   "source": "# Заданая функция ",
   "id": "3163c154d2386c8b"
  },
  {
   "metadata": {
    "ExecuteTime": {
     "end_time": "2024-06-05T21:12:05.718750Z",
     "start_time": "2024-06-05T21:12:05.707029Z"
    }
   },
   "cell_type": "code",
   "source": [
    "def f(x):\n",
    "    return np.cos(x) * np.log10(x**4) - (x * np.cos(x)) "
   ],
   "id": "2b5ae6e9836238f0",
   "outputs": [],
   "execution_count": 3
  },
  {
   "metadata": {},
   "cell_type": "markdown",
   "source": "# Построение графика",
   "id": "f3b8f4eebd142dd1"
  },
  {
   "metadata": {
    "ExecuteTime": {
     "end_time": "2024-06-05T21:12:05.965302Z",
     "start_time": "2024-06-05T21:12:05.721553Z"
    }
   },
   "cell_type": "code",
   "source": [
    "def graf():\n",
    "    # Построение графика\n",
    "    x_plt = np.arange(a, b, 0.0001)\n",
    "    f_plt = [f(x) for x in x_plt]\n",
    "    fig, ax = plt.subplots()\n",
    "    ax.grid()\n",
    "    ax.plot(x_plt, f_plt)\n",
    "    plt.show()\n",
    "    \n",
    "    \n",
    "graf()\n"
   ],
   "id": "b26d26c573af9723",
   "outputs": [
    {
     "data": {
      "text/plain": [
       "<Figure size 640x480 with 1 Axes>"
      ],
      "image/png": "[encoded data removed]"
     },
     "metadata": {},
     "output_type": "display_data"
    }
   ],
   "execution_count": 4
  },
  {
   "metadata": {},
   "cell_type": "markdown",
   "source": "# Метод Бисекций",
   "id": "3473073366212fdb"
  },
  {
   "metadata": {
    "ExecuteTime": {
     "end_time": "2024-06-05T21:12:05.974099Z",
     "start_time": "2024-06-05T21:12:05.966784Z"
    }
   },
   "cell_type": "code",
   "source": [
    "def bisection_method(start=a, end=b, tol=xx):\n",
    "\n",
    "    if f(start) * f(end) >= 0:\n",
    "        print(\"ошибка\")\n",
    "        return None\n",
    "    \n",
    "    while (end - start) / 2 > tol:\n",
    "        c = (start + end) / 2\n",
    "        if f(c) == 0:\n",
    "            return c\n",
    "        elif f(c) * f(start) < 0:\n",
    "            end = c\n",
    "        else:\n",
    "            start = c\n",
    "            \n",
    "    return (start + end) / 2 \n"
   ],
   "id": "6934ace227b61e6",
   "outputs": [],
   "execution_count": 5
  },
  {
   "metadata": {
    "ExecuteTime": {
     "end_time": "2024-06-05T21:12:05.992519Z",
     "start_time": "2024-06-05T21:12:05.977017Z"
    }
   },
   "cell_type": "code",
   "source": "bisection_method(a, b)",
   "id": "9b2b503cd935f528",
   "outputs": [
    {
     "data": {
      "text/plain": [
       "1.5707963109016418"
      ]
     },
     "execution_count": 6,
     "metadata": {},
     "output_type": "execute_result"
    }
   ],
   "execution_count": 6
  },
  {
   "metadata": {},
   "cell_type": "markdown",
   "source": "# Метод Хорд",
   "id": "f85daddbd3e54fa2"
  },
  {
   "metadata": {
    "ExecuteTime": {
     "end_time": "2024-06-05T21:12:06.001518Z",
     "start_time": "2024-06-05T21:12:05.994205Z"
    }
   },
   "cell_type": "code",
   "source": [
    "def chord_method(start=a, end=b, tol=xx):\n",
    "    while (end-start) / 2 > tol:\n",
    "        c = end - f(end) * (end-start) / (f(end)-f(start))\n",
    "        if f(c) == 0:\n",
    "            return c\n",
    "        elif f(c) * f(start) < 0:\n",
    "            end = c\n",
    "        else:\n",
    "            start = c\n",
    "    return (start+end) / 2"
   ],
   "id": "29a512b5bf536df6",
   "outputs": [],
   "execution_count": 7
  },
  {
   "metadata": {
    "ExecuteTime": {
     "end_time": "2024-06-05T21:12:06.019060Z",
     "start_time": "2024-06-05T21:12:06.003519Z"
    }
   },
   "cell_type": "code",
   "source": "chord_method(a, b)",
   "id": "92a10ab85b4427bf",
   "outputs": [
    {
     "data": {
      "text/plain": [
       "1.5707963267948966"
      ]
     },
     "execution_count": 8,
     "metadata": {},
     "output_type": "execute_result"
    }
   ],
   "execution_count": 8
  },
  {
   "metadata": {},
   "cell_type": "markdown",
   "source": "# Сравнение",
   "id": "9e5425cc855ec209"
  },
  {
   "metadata": {
    "ExecuteTime": {
     "end_time": "2024-06-05T21:12:06.032923Z",
     "start_time": "2024-06-05T21:12:06.021701Z"
    }
   },
   "cell_type": "code",
   "source": [
    "print(f'Метод Бисекций: {bisection_method(a,b)}')\n",
    "print(f'Метод Хорд: {chord_method(a,b)}')"
   ],
   "id": "b51eedf9cd16bef6",
   "outputs": [
    {
     "name": "stdout",
     "output_type": "stream",
     "text": [
      "Метод Бисекций: 1.5707963109016418\n",
      "Метод Хорд: 1.5707963267948966\n"
     ]
    }
   ],
   "execution_count": 9
  },
  {
   "metadata": {
    "ExecuteTime": {
     "end_time": "2024-06-05T21:12:06.038765Z",
     "start_time": "2024-06-05T21:12:06.035773Z"
    }
   },
   "cell_type": "code",
   "source": "",
   "id": "995e8f609e74694a",
   "outputs": [],
   "execution_count": 9
  }
 ],
 "metadata": {
  "kernelspec": {
   "display_name": "Python 3",
   "language": "python",
   "name": "python3"
  },
  "language_info": {
   "codemirror_mode": {
    "name": "ipython",
    "version": 2
   },
   "file_extension": ".py",
   "mimetype": "text/x-python",
   "name": "python",
   "nbconvert_exporter": "python",
   "pygments_lexer": "ipython2",
   "version": "2.7.6"
  }
 },
 "nbformat": 4,
 "nbformat_minor": 5
}
