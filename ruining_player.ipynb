{
 "cells": [
  {
   "metadata": {},
   "cell_type": "markdown",
   "source": "# Разорение игрока",
   "id": "c3932225e8673796"
  },
  {
   "cell_type": "code",
   "id": "5a096da8-2bdf-4348-bb8e-a5104e15c342",
   "metadata": {
    "ExecuteTime": {
     "end_time": "2024-06-05T07:40:19.195099Z",
     "start_time": "2024-06-05T07:40:19.187142Z"
    }
   },
   "source": [
    "import random"
   ],
   "outputs": [],
   "execution_count": 1
  },
  {
   "metadata": {},
   "cell_type": "markdown",
   "source": [
    "## Исходные данные\n",
    "Вариант 18"
   ],
   "id": "4b1097d40de17f9e"
  },
  {
   "cell_type": "code",
   "id": "e4515885-ad22-4cf2-992e-cc31126152bb",
   "metadata": {
    "ExecuteTime": {
     "end_time": "2024-06-05T07:50:18.147534Z",
     "start_time": "2024-06-05T07:50:18.143545Z"
    }
   },
   "source": [
    "p = 0.44 #  Вероятность выпадения орла\n",
    "\n",
    "# Количество денег \n",
    "y = 153 # Баланс 1 игрока \n",
    "x = 76 # Баланс 2 игрока \n",
    "\n",
    "N = 1000 # количество игр\n",
    "N_game = 1000 # количество раундов"
   ],
   "outputs": [],
   "execution_count": 34
  },
  {
   "metadata": {},
   "cell_type": "markdown",
   "source": "Получение случайного значения от 0 до 1 с точность до 0.01",
   "id": "da198a47cb957d85"
  },
  {
   "cell_type": "code",
   "id": "f33f48ff-90c1-489c-a3cc-c0ca9ff7b283",
   "metadata": {
    "ExecuteTime": {
     "end_time": "2024-06-05T07:50:20.245959Z",
     "start_time": "2024-06-05T07:50:20.236234Z"
    }
   },
   "source": [
    "def random_num():\n",
    "        return round(random.uniform(0, 1), 2)"
   ],
   "outputs": [],
   "execution_count": 35
  },
  {
   "cell_type": "code",
   "id": "1fe797c8-2cba-44fb-a1b9-390637a0013c",
   "metadata": {
    "ExecuteTime": {
     "end_time": "2024-06-05T08:00:35.026472Z",
     "start_time": "2024-06-05T08:00:35.017183Z"
    }
   },
   "source": [
    "def sparing():\n",
    "    \n",
    "    vin_1 = 0  # Количество побед 1 игрока\n",
    "    vin_2 = 0  # Количество побед 2 игрока\n",
    "    none_ = 0  # Количество ничьих\n",
    "    over_game = []  # Длительность игр\n",
    "\n",
    "    for _ in range(N_game):\n",
    "\n",
    "        balanced = 0\n",
    "        count = 0\n",
    "\n",
    "        for _ in range(N):\n",
    "\n",
    "            random_nums = random_num()\n",
    "\n",
    "            if random_nums <= p:\n",
    "                balanced += 1\n",
    "            else:\n",
    "                balanced -= 1\n",
    "\n",
    "            if balanced >= y:\n",
    "                vin_1 += 1\n",
    "                break\n",
    "\n",
    "            if balanced <= -x:\n",
    "                vin_2 += 1\n",
    "                break\n",
    "\n",
    "            count += 1\n",
    "\n",
    "        over_game.append(count)\n",
    "\n",
    "        # Если число игр закончилось, то проверяем кто выйграет\n",
    "        if count == N:\n",
    "            if balanced < 0:\n",
    "                vin_1 += 1\n",
    "            elif balanced > 0:\n",
    "                vin_2 += 1\n",
    "            else:\n",
    "                none_ += 1\n",
    "\n",
    "    sp_game = int(sum(over_game)/len(over_game))\n",
    "\n",
    "    winner = 1 if vin_1 > vin_2 else 2\n",
    "\n",
    "    print(f\"Победит игрок: {winner} \\n\")\n",
    "\n",
    "    print(f\"Общеe число игр: {N_game} \\n\")\n",
    "\n",
    "    print(f\"Количестов побед у 1 игрока: {vin_1}\\n\"\n",
    "          f\"Количестов побед у 2 игрока: {vin_2}\\n\")\n",
    "    print(f\"ср длительность игры: {sp_game}\")\n",
    "    print(\n",
    "            f\"\\nПроцент побед у 1 игрока  = {vin_1/N_game}\"\n",
    "            f\"\\nПроцент побед у 2 игрока = {vin_2/N_game}\"\n",
    "            f\"\\nПроцент ничьих = {none_/N_game}\"\n",
    "            f\"\\nПроверка = {(vin_1/N_game)+(vin_2/N_game)+(none_/N_game)} \")"
   ],
   "outputs": [],
   "execution_count": 59
  },
  {
   "cell_type": "code",
   "id": "0148ca3f-1a37-4a80-8226-f0fe1a45bd72",
   "metadata": {
    "ExecuteTime": {
     "end_time": "2024-06-05T08:00:36.017009Z",
     "start_time": "2024-06-05T08:00:35.282304Z"
    }
   },
   "source": "sparing()",
   "outputs": [
    {
     "name": "stdout",
     "output_type": "stream",
     "text": [
      "Победит игрок: 2 \n",
      "\n",
      "Общеe число игр: 1000 \n",
      "\n",
      "Количестов побед у 1 игрока: 99\n",
      "Количестов побед у 2 игрока: 901\n",
      "\n",
      "ср длительность игры: 672\n",
      "\n",
      "Процент побед у 1 игрока  = 0.099\n",
      "Процент побед у 2 игрока = 0.901\n",
      "Процент ничьих = 0.0\n",
      "ср длительность игры: 672 \n",
      "проверка = 1.0 \n"
     ]
    }
   ],
   "execution_count": 60
  },
  {
   "metadata": {},
   "cell_type": "code",
   "outputs": [],
   "execution_count": null,
   "source": "",
   "id": "c144b137d93c1220"
  }
 ],
 "metadata": {
  "kernelspec": {
   "display_name": "Python 3 (ipykernel)",
   "language": "python",
   "name": "python3"
  },
  "language_info": {
   "codemirror_mode": {
    "name": "ipython",
    "version": 3
   },
   "file_extension": ".py",
   "mimetype": "text/x-python",
   "name": "python",
   "nbconvert_exporter": "python",
   "pygments_lexer": "ipython3",
   "version": "3.10.12"
  }
 },
 "nbformat": 4,
 "nbformat_minor": 5
}
