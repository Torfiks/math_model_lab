{
 "cells": [
  {
   "cell_type": "code",
   "execution_count": 4,
   "id": "5a096da8-2bdf-4348-bb8e-a5104e15c342",
   "metadata": {},
   "source": [
    "import random"
   ],
   "outputs": []
  },
  {
   "cell_type": "code",
   "execution_count": 304,
   "id": "e4515885-ad22-4cf2-992e-cc31126152bb",
   "metadata": {},
   "source": [
    "Variant = 18 \n",
    "p = 0.49 #0.44\n",
    "y = 120 #153\n",
    "x = 20 #76\n",
    "N = 1000\n",
    "N_game = 1000 # количество т"
   ],
   "outputs": []
  },
  {
   "cell_type": "code",
   "execution_count": 305,
   "id": "f33f48ff-90c1-489c-a3cc-c0ca9ff7b283",
   "metadata": {},
   "source": [
    "def random_num():\n",
    "        return round(random.uniform(0, 1), 2)"
   ],
   "outputs": []
  },
  {
   "cell_type": "code",
   "execution_count": 306,
   "id": "1fe797c8-2cba-44fb-a1b9-390637a0013c",
   "metadata": {},
   "source": [
    "def sparing():\n",
    "    \n",
    "    vin_1 = 0\n",
    "    vin_2 = 0\n",
    "    none_ = 0\n",
    "    over_game = 0 \n",
    "    \n",
    "    for _ in range(N_game):\n",
    "        balans = 0 \n",
    "        count = 0\n",
    "        for _ in range(N):\n",
    "            \n",
    "            random_nums = random_num()\n",
    "            \n",
    "            if random_nums <= p:\n",
    "                balans += 1\n",
    "            else:\n",
    "                balans -= 1\n",
    "                \n",
    "            if balans >= y:\n",
    "                vin_1 += 1\n",
    "                break\n",
    "                \n",
    "            if balans <= -x:\n",
    "                vin_2 += 1\n",
    "                break\n",
    "\n",
    "            count += 1       \n",
    "\n",
    "\n",
    "        if count == N:\n",
    "            if balans < 0:\n",
    "                vin_1 += 1\n",
    "                over_game +=1\n",
    "            elif balans > 0:\n",
    "                vin_2 += 1\n",
    "                over_game +=1\n",
    "            else:\n",
    "                none_ += 1\n",
    "            \n",
    "    winner = 1 if vin_1/N_game > vin_2/N_game else 2\n",
    "    return(f\"win = {winner}\"\n",
    "            f\"\\np_1 = {vin_1/N_game}\"\n",
    "            f\"\\np_2 = {vin_2/N_game}\"\n",
    "            f\"\\nничья = {none_/N_game}\"\n",
    "            f\"\\nср длит:{over_game} \"\n",
    "            f\"\\nпроверка={(vin_1/N_game)+(vin_2/N_game)+(none_/N_game)} \")"
   ],
   "outputs": []
  },
  {
   "cell_type": "code",
   "execution_count": 318,
   "id": "0148ca3f-1a37-4a80-8226-f0fe1a45bd72",
   "metadata": {},
   "source": [
    "print(sparing())"
   ],
   "outputs": []
  },
  {
   "cell_type": "code",
   "execution_count": null,
   "id": "179cd95b-f5ad-40d3-bef4-95283bde4499",
   "metadata": {},
   "source": [],
   "outputs": []
  },
  {
   "cell_type": "code",
   "execution_count": null,
   "id": "1e056d14-e0a9-4a23-bf20-d1781f0b5659",
   "metadata": {},
   "source": [],
   "outputs": []
  }
 ],
 "metadata": {
  "kernelspec": {
   "display_name": "Python 3 (ipykernel)",
   "language": "python",
   "name": "python3"
  },
  "language_info": {
   "codemirror_mode": {
    "name": "ipython",
    "version": 3
   },
   "file_extension": ".py",
   "mimetype": "text/x-python",
   "name": "python",
   "nbconvert_exporter": "python",
   "pygments_lexer": "ipython3",
   "version": "3.10.12"
  }
 },
 "nbformat": 4,
 "nbformat_minor": 5
}
