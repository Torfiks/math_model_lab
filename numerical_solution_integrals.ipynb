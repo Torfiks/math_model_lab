{
 "cells": [
  {
   "metadata": {},
   "cell_type": "markdown",
   "source": "# Методы численного интегрирования ",
   "id": "58a241364a722b7a"
  },
  {
   "cell_type": "code",
   "id": "3125b36f-ab57-4ea8-ae76-d800cd6560f2",
   "metadata": {
    "ExecuteTime": {
     "end_time": "2024-06-05T21:13:17.609942Z",
     "start_time": "2024-06-05T21:13:16.425334Z"
    }
   },
   "source": [
    "import random \n",
    "import numpy as np\n",
    "import matplotlib.pyplot as plt\n",
    "\n",
    "from scipy.integrate import quad"
   ],
   "outputs": [],
   "execution_count": 1
  },
  {
   "metadata": {},
   "cell_type": "markdown",
   "source": "# Исходные параметры ",
   "id": "62beec3aaa05d713"
  },
  {
   "cell_type": "code",
   "id": "f7f7f9d6-898f-4abc-a99b-4a10dc72887b",
   "metadata": {
    "ExecuteTime": {
     "end_time": "2024-06-05T21:13:17.630982Z",
     "start_time": "2024-06-05T21:13:17.615110Z"
    }
   },
   "source": [
    "# Пределы интегрирования\n",
    "start_int = 1 \n",
    "end_int = 6\n",
    "\n",
    "n = 1000 # количество прямоугольников\n",
    "\n",
    "h = (end_int - start_int) / n # ширина прямоугольника"
   ],
   "outputs": [],
   "execution_count": 2
  },
  {
   "metadata": {},
   "cell_type": "markdown",
   "source": "# Интеграл",
   "id": "f76b29951bbec656"
  },
  {
   "metadata": {
    "ExecuteTime": {
     "end_time": "2024-06-05T21:13:17.658064Z",
     "start_time": "2024-06-05T21:13:17.635383Z"
    }
   },
   "cell_type": "code",
   "source": [
    "def integral(x):\n",
    "    return ((x**2)*(np.exp(x)))/((x+2)**2)"
   ],
   "id": "cbd52e0706b48a5",
   "outputs": [],
   "execution_count": 3
  },
  {
   "metadata": {},
   "cell_type": "markdown",
   "source": "# Решения интеграла ",
   "id": "593873315e03cad4"
  },
  {
   "metadata": {
    "ExecuteTime": {
     "end_time": "2024-06-05T21:13:17.682572Z",
     "start_time": "2024-06-05T21:13:17.670803Z"
    }
   },
   "cell_type": "code",
   "source": [
    "def ret():\n",
    "    return quad(integral, start_int, end_int)[0] \n",
    "ret()"
   ],
   "id": "89169a942943facc",
   "outputs": [
    {
     "data": {
      "text/plain": [
       "202.62049068918728"
      ]
     },
     "execution_count": 4,
     "metadata": {},
     "output_type": "execute_result"
    }
   ],
   "execution_count": 4
  },
  {
   "metadata": {},
   "cell_type": "markdown",
   "source": "График ",
   "id": "aa18c6f5c1fa5292"
  },
  {
   "metadata": {
    "ExecuteTime": {
     "end_time": "2024-06-05T21:13:17.900516Z",
     "start_time": "2024-06-05T21:13:17.684736Z"
    }
   },
   "cell_type": "code",
   "source": [
    "x1 = np.linspace(start_int, end_int, n)\n",
    "y = x1**3 + 5*(x1**2) + x1\n",
    "plt.plot(x1, y, color = 'red')\n",
    "plt.xlabel('x')\n",
    "plt.ylabel('f(x) =((x**2)*(np.exp(x)))/((x+2)**2)')\n",
    "plt.grid(True)\n",
    "plt.show()"
   ],
   "id": "a3aad1591a09cbd",
   "outputs": [
    {
     "data": {
      "text/plain": [
       "<Figure size 640x480 with 1 Axes>"
      ],
      "image/png": "[encoded data removed]"
     },
     "metadata": {},
     "output_type": "display_data"
    }
   ],
   "execution_count": 5
  },
  {
   "metadata": {},
   "cell_type": "markdown",
   "source": "# Метод левых прямоугольников ",
   "id": "ce76d875fb5d1fe0"
  },
  {
   "cell_type": "code",
   "id": "280e0777-5045-4323-840f-12a348b4ef27",
   "metadata": {
    "ExecuteTime": {
     "end_time": "2024-06-05T21:13:17.908355Z",
     "start_time": "2024-06-05T21:13:17.902834Z"
    }
   },
   "source": [
    "def left_rectandles():\n",
    "    print(\"Метод левых прямоугольников\",end=\"\\n\")\n",
    "    \n",
    "    total = sum([integral((start_int + (k*h))) for k in range(0, n)])\n",
    "    \n",
    "    result = h * total\n",
    "    \n",
    "    print(f\"Результат: {result}\\n\")\n",
    "    \n",
    "    return result"
   ],
   "outputs": [],
   "execution_count": 6
  },
  {
   "cell_type": "code",
   "id": "b4620628-0294-4432-8604-bbc43ddb3192",
   "metadata": {
    "ExecuteTime": {
     "end_time": "2024-06-05T21:13:17.951874Z",
     "start_time": "2024-06-05T21:13:17.911380Z"
    }
   },
   "source": [
    "left_rectandles()"
   ],
   "outputs": [
    {
     "name": "stdout",
     "output_type": "stream",
     "text": [
      "Метод левых прямоугольников\n",
      "Результат: 202.05443472364072\n",
      "\n"
     ]
    },
    {
     "data": {
      "text/plain": [
       "202.05443472364072"
      ]
     },
     "execution_count": 7,
     "metadata": {},
     "output_type": "execute_result"
    }
   ],
   "execution_count": 7
  },
  {
   "metadata": {},
   "cell_type": "markdown",
   "source": "# Метод правых прямоугольников ",
   "id": "ae8229a3f9cd1171"
  },
  {
   "cell_type": "code",
   "id": "8aa7c60e-9b12-490f-9355-759d5004a814",
   "metadata": {
    "ExecuteTime": {
     "end_time": "2024-06-05T21:13:17.973004Z",
     "start_time": "2024-06-05T21:13:17.959801Z"
    }
   },
   "source": [
    "def right_rectandles():\n",
    "    print(\"Метод правых прямоугольников\",end=\"\\n\")\n",
    "   \n",
    "    total = sum([integral((start_int+h + (k*h))) for k in range(0, n)])\n",
    "    \n",
    "    result = h * total\n",
    "    \n",
    "    print(f\"Результат: {result}\\n\")\n",
    "    \n",
    "    return result"
   ],
   "outputs": [],
   "execution_count": 8
  },
  {
   "cell_type": "code",
   "id": "1c6919f0-d236-4c00-8c23-5fca03b1fc13",
   "metadata": {
    "ExecuteTime": {
     "end_time": "2024-06-05T21:13:17.994649Z",
     "start_time": "2024-06-05T21:13:17.977010Z"
    }
   },
   "source": "right_rectandles()",
   "outputs": [
    {
     "name": "stdout",
     "output_type": "stream",
     "text": [
      "Метод правых прямоугольников\n",
      "Результат: 203.18756804876767\n",
      "\n"
     ]
    },
    {
     "data": {
      "text/plain": [
       "203.18756804876767"
      ]
     },
     "execution_count": 9,
     "metadata": {},
     "output_type": "execute_result"
    }
   ],
   "execution_count": 9
  },
  {
   "metadata": {},
   "cell_type": "markdown",
   "source": "# Метод трапеции",
   "id": "821397a06d25f729"
  },
  {
   "cell_type": "code",
   "id": "82fee41b-6b14-44a0-a1e7-1b1de4b3ab2d",
   "metadata": {
    "ExecuteTime": {
     "end_time": "2024-06-05T21:13:18.020971Z",
     "start_time": "2024-06-05T21:13:18.008355Z"
    }
   },
   "source": [
    "def trapezoid():\n",
    "    print(\"Метод трапеции\",end=\"\\n\")\n",
    "\n",
    "    sum_ = 0.5 * (integral(start_int)+integral(end_int))\n",
    "    \n",
    "    total = sum([integral((start_int + k*h)) for k in range(0, n)])\n",
    "    \n",
    "    result = h * (total+sum_)\n",
    "    print(f\"Результат: {result}\\n\")\n",
    "    return result"
   ],
   "outputs": [],
   "execution_count": 10
  },
  {
   "cell_type": "code",
   "id": "df93d966-1eec-4971-a6a5-3d2fbe96f285",
   "metadata": {
    "ExecuteTime": {
     "end_time": "2024-06-05T21:13:18.042621Z",
     "start_time": "2024-06-05T21:13:18.022419Z"
    }
   },
   "source": [
    "trapezoid()"
   ],
   "outputs": [
    {
     "name": "stdout",
     "output_type": "stream",
     "text": [
      "Метод трапеции\n",
      "Результат: 202.62251154277558\n",
      "\n"
     ]
    },
    {
     "data": {
      "text/plain": [
       "202.62251154277558"
      ]
     },
     "execution_count": 11,
     "metadata": {},
     "output_type": "execute_result"
    }
   ],
   "execution_count": 11
  },
  {
   "metadata": {},
   "cell_type": "markdown",
   "source": "# Метод Монте-Карло",
   "id": "8556b18b0bf69131"
  },
  {
   "cell_type": "code",
   "id": "738de85b-ff26-4d65-8f54-8f6fa0aca7d5",
   "metadata": {
    "ExecuteTime": {
     "end_time": "2024-06-05T21:13:18.058827Z",
     "start_time": "2024-06-05T21:13:18.046490Z"
    }
   },
   "source": [
    "def monte_carlo():\n",
    "    print(\"Метод Монте Карло \",end=\"\\n\") \n",
    "    \n",
    "    total = 0\n",
    "    \n",
    "    for i in range(1, n):\n",
    "        rangom_num = start_int + random.random() * (end_int-start_int)\n",
    "    \n",
    "        intes = integral(rangom_num)   \n",
    "        \n",
    "        total += h * intes\n",
    "        \n",
    "    print(f\"Результат: {total}\\n\")\n",
    "    \n",
    "    return total \n"
   ],
   "outputs": [],
   "execution_count": 12
  },
  {
   "cell_type": "code",
   "id": "c012de7a-9418-4477-a858-b65c0df4779b",
   "metadata": {
    "ExecuteTime": {
     "end_time": "2024-06-05T21:13:18.082133Z",
     "start_time": "2024-06-05T21:13:18.063321Z"
    }
   },
   "source": "monte_carlo()",
   "outputs": [
    {
     "name": "stdout",
     "output_type": "stream",
     "text": [
      "Метод Монте Карло \n",
      "Результат: 198.15626610950756\n",
      "\n"
     ]
    },
    {
     "data": {
      "text/plain": [
       "198.15626610950756"
      ]
     },
     "execution_count": 13,
     "metadata": {},
     "output_type": "execute_result"
    }
   ],
   "execution_count": 13
  },
  {
   "metadata": {},
   "cell_type": "markdown",
   "source": "# Метод Симпсона",
   "id": "9db8d8d852c610cd"
  },
  {
   "cell_type": "code",
   "id": "c09c04c6-6a08-4dd8-8665-4d05f6045f29",
   "metadata": {
    "ExecuteTime": {
     "end_time": "2024-06-05T21:13:18.095396Z",
     "start_time": "2024-06-05T21:13:18.087881Z"
    }
   },
   "source": [
    "def simpsons():\n",
    "    print(\"Метод Симпсона \", end=\"\\n\")\n",
    "\n",
    "    temp = 0.0\n",
    "    # для нечетных\n",
    "    x = start_int + h\n",
    "    for i in range(1, int(n / 2 + 1)):\n",
    "        temp += 4 * integral(x)\n",
    "        x += 2 * h\n",
    "\n",
    "    # для четных\n",
    "    x = start_int + 2 * h\n",
    "    for i in range(1, int(n / 2)):\n",
    "        temp += 2 * integral(x)\n",
    "        x += 2 * h\n",
    "\n",
    "    total = (h / 3) * (integral(start_int) + integral(end_int) + temp)\n",
    "    \n",
    "    print(f\"Результат: {total}\\n\")\n",
    "    \n",
    "    return total"
   ],
   "outputs": [],
   "execution_count": 14
  },
  {
   "cell_type": "code",
   "id": "56797009-262b-4fcf-a039-6b94f3887e98",
   "metadata": {
    "ExecuteTime": {
     "end_time": "2024-06-05T21:13:18.114827Z",
     "start_time": "2024-06-05T21:13:18.097141Z"
    }
   },
   "source": "simpsons()",
   "outputs": [
    {
     "name": "stdout",
     "output_type": "stream",
     "text": [
      "Метод Симпсона \n",
      "Результат: 202.62049069011604\n",
      "\n"
     ]
    },
    {
     "data": {
      "text/plain": [
       "202.62049069011604"
      ]
     },
     "execution_count": 15,
     "metadata": {},
     "output_type": "execute_result"
    }
   ],
   "execution_count": 15
  },
  {
   "metadata": {},
   "cell_type": "markdown",
   "source": "# Расчет погрешности ",
   "id": "1f8aaba34f5155a"
  },
  {
   "cell_type": "code",
   "id": "a2fa1b65-6d79-402e-ad14-43cb381d9439",
   "metadata": {
    "ExecuteTime": {
     "end_time": "2024-06-05T21:13:18.134511Z",
     "start_time": "2024-06-05T21:13:18.118757Z"
    }
   },
   "source": [
    "def pog():\n",
    "    \n",
    "    ist = ret()\n",
    "    \n",
    "    mas = []\n",
    "    \n",
    "    left = left_rectandles() - ist\n",
    "    mas.append(left)\n",
    "    \n",
    "    right = right_rectandles() - ist\n",
    "    mas.append(right)\n",
    "    \n",
    "    trap = trapezoid() - ist \n",
    "    mas.append(trap)\n",
    "    \n",
    "    monte = monte_carlo() - ist\n",
    "    mas.append(monte)\n",
    "    \n",
    "    simpson_ = simpsons() - ist \n",
    "    mas.append(simpson_)\n",
    "    \n",
    "    print()\n",
    "    print(f\"Погрешность метод левых прямоугольников {left}\\n\")\n",
    "    print(f\"Погрешность метод правых прямоугольников {right}\\n\")\n",
    "    print(f\"Погрешность метод трапеции {trap}\\n\")\n",
    "    print(f\"Погрешность метод монте-карло {monte}\\n\")\n",
    "    print(f\"Погрешность метод симпсона {simpson_}\\n\")\n",
    "    \n",
    "    index = 0\n",
    "    min_ = abs(mas[index])\n",
    "    for i in range(len(mas)):\n",
    "        if abs(mas[i]) <= min_ :\n",
    "            min_ = abs(mas[i])\n",
    "            index = i\n",
    "            print(\"d\",min_,i)\n",
    "    \n",
    "    print(\"Лучший Метод:\")\n",
    "    if index == 0:\n",
    "        print(\"метод левых прямоугольников\")\n",
    "    elif index == 1:\n",
    "        print(\"метод правых прямоугольников\")\n",
    "    elif index == 2:\n",
    "        print(\"метод трапеции\")\n",
    "    elif index == 3:    \n",
    "        print(\"метод монте-карло\")\n",
    "    elif index == 4:\n",
    "        print(\"симпсона\")\n",
    "       "
   ],
   "outputs": [],
   "execution_count": 16
  },
  {
   "cell_type": "code",
   "id": "93a4723b-e5c2-4730-be9b-55946fa4c121",
   "metadata": {
    "ExecuteTime": {
     "end_time": "2024-06-05T21:13:18.164836Z",
     "start_time": "2024-06-05T21:13:18.138828Z"
    }
   },
   "source": [
    "pog()"
   ],
   "outputs": [
    {
     "name": "stdout",
     "output_type": "stream",
     "text": [
      "Метод левых прямоугольников\n",
      "Результат: 202.05443472364072\n",
      "\n",
      "Метод правых прямоугольников\n",
      "Результат: 203.18756804876767\n",
      "\n",
      "Метод трапеции\n",
      "Результат: 202.62251154277558\n",
      "\n",
      "Метод Монте Карло \n",
      "Результат: 205.03405828985575\n",
      "\n",
      "Метод Симпсона \n",
      "Результат: 202.62049069011604\n",
      "\n",
      "\n",
      "Погрешность метод левых прямоугольников -0.5660559655465534\n",
      "\n",
      "Погрешность метод правых прямоугольников 0.5670773595803951\n",
      "\n",
      "Погрешность метод трапеции 0.0020208535883057266\n",
      "\n",
      "Погрешность метод монте-карло 2.413567600668472\n",
      "\n",
      "Погрешность метод симпсона 9.287646207667422e-10\n",
      "\n",
      "d 0.5660559655465534 0\n",
      "d 0.0020208535883057266 2\n",
      "d 9.287646207667422e-10 4\n",
      "Лучший Метод:\n",
      "симпсона\n"
     ]
    }
   ],
   "execution_count": 17
  },
  {
   "cell_type": "code",
   "id": "077eaf91-1e20-41e4-b87a-0edb3a0af0b8",
   "metadata": {},
   "source": [],
   "outputs": [],
   "execution_count": 17
  }
 ],
 "metadata": {
  "kernelspec": {
   "display_name": "Python 3 (ipykernel)",
   "language": "python",
   "name": "python3"
  },
  "language_info": {
   "codemirror_mode": {
    "name": "ipython",
    "version": 3
   },
   "file_extension": ".py",
   "mimetype": "text/x-python",
   "name": "python",
   "nbconvert_exporter": "python",
   "pygments_lexer": "ipython3",
   "version": "3.10.12"
  }
 },
 "nbformat": 4,
 "nbformat_minor": 5
}
