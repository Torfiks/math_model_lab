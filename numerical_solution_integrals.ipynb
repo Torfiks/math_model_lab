{
 "cells": [
  {
   "metadata": {},
   "cell_type": "markdown",
   "source": "# Методы численного интегрирования ",
   "id": "58a241364a722b7a"
  },
  {
   "cell_type": "code",
   "id": "3125b36f-ab57-4ea8-ae76-d800cd6560f2",
   "metadata": {
    "ExecuteTime": {
     "end_time": "2024-06-05T08:37:21.254060Z",
     "start_time": "2024-06-05T08:37:21.249771Z"
    }
   },
   "source": [
    "import random \n",
    "import numpy as np\n",
    "import matplotlib.pyplot as plt\n",
    "\n",
    "from scipy.integrate import quad"
   ],
   "outputs": [],
   "execution_count": 96
  },
  {
   "metadata": {},
   "cell_type": "markdown",
   "source": "# Исходные параметры ",
   "id": "62beec3aaa05d713"
  },
  {
   "cell_type": "code",
   "id": "f7f7f9d6-898f-4abc-a99b-4a10dc72887b",
   "metadata": {
    "ExecuteTime": {
     "end_time": "2024-06-05T08:37:21.468465Z",
     "start_time": "2024-06-05T08:37:21.463676Z"
    }
   },
   "source": [
    "# Пределы интегрирования\n",
    "start_int = 1 \n",
    "end_int = 3\n",
    "\n",
    "n = 1000 # количество прямоугольников\n",
    "\n",
    "h = (end_int - start_int) / n # ширина прямоугольника"
   ],
   "outputs": [],
   "execution_count": 97
  },
  {
   "metadata": {},
   "cell_type": "markdown",
   "source": "# Интеграл",
   "id": "f76b29951bbec656"
  },
  {
   "metadata": {
    "ExecuteTime": {
     "end_time": "2024-06-05T08:37:21.487753Z",
     "start_time": "2024-06-05T08:37:21.483626Z"
    }
   },
   "cell_type": "code",
   "source": [
    "def integral(x):\n",
    "    return ((x**2)*(np.exp(x)))/((x+2)**2)"
   ],
   "id": "cbd52e0706b48a5",
   "outputs": [],
   "execution_count": 98
  },
  {
   "metadata": {},
   "cell_type": "markdown",
   "source": "# Решения интеграла ",
   "id": "593873315e03cad4"
  },
  {
   "metadata": {
    "ExecuteTime": {
     "end_time": "2024-06-05T08:37:21.528572Z",
     "start_time": "2024-06-05T08:37:21.522491Z"
    }
   },
   "cell_type": "code",
   "source": [
    "def ret():\n",
    "    return quad(integral, start_int, end_int)[0] \n",
    "ret()"
   ],
   "id": "89169a942943facc",
   "outputs": [
    {
     "data": {
      "text/plain": [
       "4.923201327457217"
      ]
     },
     "execution_count": 99,
     "metadata": {},
     "output_type": "execute_result"
    }
   ],
   "execution_count": 99
  },
  {
   "metadata": {},
   "cell_type": "markdown",
   "source": "График ",
   "id": "aa18c6f5c1fa5292"
  },
  {
   "metadata": {
    "ExecuteTime": {
     "end_time": "2024-06-05T08:37:21.832116Z",
     "start_time": "2024-06-05T08:37:21.639606Z"
    }
   },
   "cell_type": "code",
   "source": [
    "x1 = np.linspace(start_int, end_int, n)\n",
    "y = x1**3 + 5*(x1**2) + x1\n",
    "plt.plot(x1, y, color = 'red')\n",
    "plt.xlabel('x')\n",
    "plt.ylabel('f(x) =((x**2)*(np.exp(x)))/((x+2)**2)')\n",
    "plt.grid(True)\n",
    "plt.show()"
   ],
   "id": "a3aad1591a09cbd",
   "outputs": [
    {
     "data": {
      "text/plain": [
       "<Figure size 640x480 with 1 Axes>"
      ],
      "image/png": "[encoded data removed]"
     },
     "metadata": {},
     "output_type": "display_data"
    }
   ],
   "execution_count": 100
  },
  {
   "metadata": {},
   "cell_type": "markdown",
   "source": "# Метод левых прямоугольников ",
   "id": "ce76d875fb5d1fe0"
  },
  {
   "cell_type": "code",
   "id": "280e0777-5045-4323-840f-12a348b4ef27",
   "metadata": {
    "ExecuteTime": {
     "end_time": "2024-06-05T08:37:21.841053Z",
     "start_time": "2024-06-05T08:37:21.835577Z"
    }
   },
   "source": [
    "def left_rectandles():\n",
    "    print(\"Метод левых прямоугольников\",end=\"\\n\")\n",
    "    \n",
    "    total = sum([integral((start_int + (k*h))) for k in range(0, n)])\n",
    "    \n",
    "    result = h * total\n",
    "    print(f\"Результат: {result}\\n\")\n",
    "    return result"
   ],
   "outputs": [],
   "execution_count": 101
  },
  {
   "cell_type": "code",
   "id": "b4620628-0294-4432-8604-bbc43ddb3192",
   "metadata": {
    "ExecuteTime": {
     "end_time": "2024-06-05T08:37:21.863204Z",
     "start_time": "2024-06-05T08:37:21.843903Z"
    }
   },
   "source": [
    "left_rectandles()"
   ],
   "outputs": [
    {
     "name": "stdout",
     "output_type": "stream",
     "text": [
      "Метод левых прямоугольников\n",
      "Результат: 4.916275383567281\n",
      "\n"
     ]
    },
    {
     "data": {
      "text/plain": [
       "4.916275383567281"
      ]
     },
     "execution_count": 102,
     "metadata": {},
     "output_type": "execute_result"
    }
   ],
   "execution_count": 102
  },
  {
   "metadata": {},
   "cell_type": "markdown",
   "source": "# Метод правых прямоугольников ",
   "id": "ae8229a3f9cd1171"
  },
  {
   "cell_type": "code",
   "id": "8aa7c60e-9b12-490f-9355-759d5004a814",
   "metadata": {
    "ExecuteTime": {
     "end_time": "2024-06-05T08:37:21.876135Z",
     "start_time": "2024-06-05T08:37:21.867556Z"
    }
   },
   "source": [
    "def right_rectandles():\n",
    "    print(\"Метод правых прямоугольников\",end=\"\\n\")\n",
    "   \n",
    "    total = sum([integral((start_int+h + (k*h))) for k in range(0, n)])\n",
    "    \n",
    "    result = h * total\n",
    "    print(f\"Результат: {result}\\n\")\n",
    "    return result"
   ],
   "outputs": [],
   "execution_count": 103
  },
  {
   "cell_type": "code",
   "id": "1c6919f0-d236-4c00-8c23-5fca03b1fc13",
   "metadata": {
    "ExecuteTime": {
     "end_time": "2024-06-05T08:37:21.995090Z",
     "start_time": "2024-06-05T08:37:21.988358Z"
    }
   },
   "source": "right_rectandles()",
   "outputs": [
    {
     "name": "stdout",
     "output_type": "stream",
     "text": [
      "Метод правых прямоугольников\n",
      "Результат: 4.93013290752343\n",
      "\n"
     ]
    },
    {
     "data": {
      "text/plain": [
       "4.93013290752343"
      ]
     },
     "execution_count": 104,
     "metadata": {},
     "output_type": "execute_result"
    }
   ],
   "execution_count": 104
  },
  {
   "metadata": {},
   "cell_type": "markdown",
   "source": "# Метод трапеции",
   "id": "821397a06d25f729"
  },
  {
   "cell_type": "code",
   "id": "82fee41b-6b14-44a0-a1e7-1b1de4b3ab2d",
   "metadata": {
    "ExecuteTime": {
     "end_time": "2024-06-05T08:37:22.060230Z",
     "start_time": "2024-06-05T08:37:22.053781Z"
    }
   },
   "source": [
    "def trapezoid():\n",
    "    print(\"Метод трапеции\",end=\"\\n\")\n",
    "\n",
    "    sum_ = 0.5 * (integral(start_int)+integral(end_int))\n",
    "    \n",
    "    total = sum([integral((start_int + k*h)) for k in range(0, n)])\n",
    "    \n",
    "    result = h * (total+sum_)\n",
    "    print(f\"Результат: {result}\\n\")\n",
    "    return result"
   ],
   "outputs": [],
   "execution_count": 105
  },
  {
   "cell_type": "code",
   "id": "df93d966-1eec-4971-a6a5-3d2fbe96f285",
   "metadata": {
    "ExecuteTime": {
     "end_time": "2024-06-05T08:37:22.130190Z",
     "start_time": "2024-06-05T08:37:22.120634Z"
    }
   },
   "source": [
    "trapezoid()"
   ],
   "outputs": [
    {
     "name": "stdout",
     "output_type": "stream",
     "text": [
      "Метод трапеции\n",
      "Результат: 4.923808208173902\n",
      "\n"
     ]
    },
    {
     "data": {
      "text/plain": [
       "4.923808208173902"
      ]
     },
     "execution_count": 106,
     "metadata": {},
     "output_type": "execute_result"
    }
   ],
   "execution_count": 106
  },
  {
   "metadata": {},
   "cell_type": "markdown",
   "source": "# Метод Монте-Карло",
   "id": "8556b18b0bf69131"
  },
  {
   "cell_type": "code",
   "id": "738de85b-ff26-4d65-8f54-8f6fa0aca7d5",
   "metadata": {
    "ExecuteTime": {
     "end_time": "2024-06-05T08:37:22.165158Z",
     "start_time": "2024-06-05T08:37:22.159546Z"
    }
   },
   "source": [
    "def monte_carlo():\n",
    "    print(\"Метод Монте Карло \",end=\"\\n\") \n",
    "    \n",
    "    total = 0\n",
    "    \n",
    "    for i in range(1, n):\n",
    "        rangom_num = start_int + random.random() * (end_int-start_int)\n",
    "    \n",
    "        intes = integral(rangom_num)   \n",
    "        \n",
    "        total += h * intes\n",
    "        \n",
    "    print(f\"Результат: {total}\\n\")\n",
    "    \n",
    "    return total \n"
   ],
   "outputs": [],
   "execution_count": 107
  },
  {
   "cell_type": "code",
   "id": "c012de7a-9418-4477-a858-b65c0df4779b",
   "metadata": {
    "ExecuteTime": {
     "end_time": "2024-06-05T08:37:22.190423Z",
     "start_time": "2024-06-05T08:37:22.180772Z"
    }
   },
   "source": "monte_carlo()",
   "outputs": [
    {
     "name": "stdout",
     "output_type": "stream",
     "text": [
      "Метод Монте Карло \n",
      "Результат: 4.787654316950756\n",
      "\n"
     ]
    },
    {
     "data": {
      "text/plain": [
       "4.787654316950756"
      ]
     },
     "execution_count": 108,
     "metadata": {},
     "output_type": "execute_result"
    }
   ],
   "execution_count": 108
  },
  {
   "metadata": {},
   "cell_type": "markdown",
   "source": "# Метод Симпсона",
   "id": "9db8d8d852c610cd"
  },
  {
   "cell_type": "code",
   "id": "c09c04c6-6a08-4dd8-8665-4d05f6045f29",
   "metadata": {
    "ExecuteTime": {
     "end_time": "2024-06-05T08:37:22.218630Z",
     "start_time": "2024-06-05T08:37:22.210210Z"
    }
   },
   "source": [
    "def simpson():\n",
    "    print(\"Метод Симпсона \",end=\"\\n\") \n",
    "\n",
    "    var1 = integral(h)\n",
    "    var2 = 0\n",
    "    var3 = 0\n",
    "    var4 = integral(start_int + (2* n *h))\n",
    "    \n",
    "    for i in range(1, n+1):\n",
    "        if i % 2 == 1:\n",
    "            var2 += 4 * integral(start_int+ (i*h))\n",
    "            \n",
    "    for i in range(1, n +1):\n",
    "\n",
    "        if i % 2 == 0:\n",
    "            var3 += 2 * integral(start_int+ (i*h))\n",
    "            \n",
    "    total = (h/3) * (var1+var2+var3+var4)\n",
    "    \n",
    "    print(f\"Результат: {total}\\n\")\n",
    "    \n",
    "    return total"
   ],
   "outputs": [],
   "execution_count": 109
  },
  {
   "cell_type": "code",
   "id": "56797009-262b-4fcf-a039-6b94f3887e98",
   "metadata": {
    "ExecuteTime": {
     "end_time": "2024-06-05T08:37:22.246275Z",
     "start_time": "2024-06-05T08:37:22.235914Z"
    }
   },
   "source": "simpson()",
   "outputs": [
    {
     "name": "stdout",
     "output_type": "stream",
     "text": [
      "Метод Симпсона \n",
      "Результат: 4.978301169138273\n",
      "\n"
     ]
    },
    {
     "data": {
      "text/plain": [
       "4.978301169138273"
      ]
     },
     "execution_count": 110,
     "metadata": {},
     "output_type": "execute_result"
    }
   ],
   "execution_count": 110
  },
  {
   "metadata": {},
   "cell_type": "markdown",
   "source": "# Расчет погрешности ",
   "id": "1f8aaba34f5155a"
  },
  {
   "cell_type": "code",
   "id": "a2fa1b65-6d79-402e-ad14-43cb381d9439",
   "metadata": {
    "ExecuteTime": {
     "end_time": "2024-06-05T08:37:22.283779Z",
     "start_time": "2024-06-05T08:37:22.274082Z"
    }
   },
   "source": [
    "def pog():\n",
    "    \n",
    "    ist = ret()\n",
    "    \n",
    "    mas = []\n",
    "    \n",
    "    left = left_rectandles() - ist\n",
    "    mas.append(left)\n",
    "    \n",
    "    right = right_rectandles() - ist\n",
    "    mas.append(right)\n",
    "    \n",
    "    trap = trapezoid() - ist \n",
    "    mas.append(trapezoid())\n",
    "    \n",
    "    monte = monte_carlo() - ist\n",
    "    mas.append(monte)\n",
    "    \n",
    "    simpson_ = simpson() - ist \n",
    "    mas.append(simpson())\n",
    "    \n",
    "    print()\n",
    "    print(f\"Погрешность метод левых прямоугольников {left}\\n\")\n",
    "    print(f\"Погрешность метод правых прямоугольников {right}\\n\")\n",
    "    print(f\"Погрешность метод трапеции {trap}\\n\")\n",
    "    print(f\"Погрешность метод монте-карло {monte}\\n\")\n",
    "    print(f\"Погрешность метод симпсона {simpson_}\\n\")\n",
    "    \n",
    "    min_ = mas[0]\n",
    "    index = 0\n",
    "    for i in range(len(mas)):\n",
    "        if abs(mas[i]) < min_:\n",
    "            min_ = mas[i]\n",
    "            index = i\n",
    "    \n",
    "    print(\"Лучший Метод:\")\n",
    "    if index == 0:\n",
    "        print(\"метод левых прямоугольников\")\n",
    "    elif index == 1:\n",
    "        print(\"метод правых прямоугольников\")\n",
    "    elif index == 2:\n",
    "        print(\"метод трапеции\")\n",
    "    elif index == 3:    \n",
    "        print(\"метод монте-карло\")\n",
    "    elif index == 4:\n",
    "        print(\"симпсона\")\n",
    "    \n",
    "    "
   ],
   "outputs": [],
   "execution_count": 111
  },
  {
   "cell_type": "code",
   "id": "93a4723b-e5c2-4730-be9b-55946fa4c121",
   "metadata": {
    "ExecuteTime": {
     "end_time": "2024-06-05T08:37:22.315013Z",
     "start_time": "2024-06-05T08:37:22.294733Z"
    }
   },
   "source": [
    "pog()"
   ],
   "outputs": [
    {
     "name": "stdout",
     "output_type": "stream",
     "text": [
      "Метод левых прямоугольников\n",
      "Результат: 4.916275383567281\n",
      "\n",
      "Метод правых прямоугольников\n",
      "Результат: 4.93013290752343\n",
      "\n",
      "Метод трапеции\n",
      "Результат: 4.923808208173902\n",
      "\n",
      "Метод трапеции\n",
      "Результат: 4.923808208173902\n",
      "\n",
      "Метод Монте Карло \n",
      "Результат: 4.753517885262347\n",
      "\n",
      "Метод Симпсона \n",
      "Результат: 4.978301169138273\n",
      "\n",
      "Метод Симпсона \n",
      "Результат: 4.978301169138273\n",
      "\n",
      "\n",
      "Погрешность метод левых прямоугольников -0.006925943889935837\n",
      "\n",
      "Погрешность метод правых прямоугольников 0.006931580066213527\n",
      "\n",
      "Погрешность метод трапеции 0.0006068807166856871\n",
      "\n",
      "Погрешность метод монте-карло -0.1696834421948692\n",
      "\n",
      "Погрешность метод симпсона 0.05509984168105664\n",
      "\n",
      "Лучший Метод:\n",
      "метод левых прямоугольников\n"
     ]
    }
   ],
   "execution_count": 112
  },
  {
   "cell_type": "code",
   "id": "077eaf91-1e20-41e4-b87a-0edb3a0af0b8",
   "metadata": {
    "ExecuteTime": {
     "end_time": "2024-06-05T08:37:22.331638Z",
     "start_time": "2024-06-05T08:37:22.329356Z"
    }
   },
   "source": [],
   "outputs": [],
   "execution_count": 112
  }
 ],
 "metadata": {
  "kernelspec": {
   "display_name": "Python 3 (ipykernel)",
   "language": "python",
   "name": "python3"
  },
  "language_info": {
   "codemirror_mode": {
    "name": "ipython",
    "version": 3
   },
   "file_extension": ".py",
   "mimetype": "text/x-python",
   "name": "python",
   "nbconvert_exporter": "python",
   "pygments_lexer": "ipython3",
   "version": "3.10.12"
  }
 },
 "nbformat": 4,
 "nbformat_minor": 5
}
