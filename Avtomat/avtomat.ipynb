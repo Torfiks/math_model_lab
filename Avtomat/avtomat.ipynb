{
 "cells": [
  {
   "metadata": {},
   "cell_type": "markdown",
   "source": "# Дополнительное задание",
   "id": "1a2652194b0ba024"
  },
  {
   "metadata": {
    "ExecuteTime": {
     "end_time": "2024-06-06T07:45:43.291350Z",
     "start_time": "2024-06-06T07:45:43.286666Z"
    }
   },
   "cell_type": "code",
   "source": [
    "import random\n",
    "import time\n",
    "import re\n",
    "from unittest import result\n",
    "\n",
    "import sympy\n",
    "import numpy as np\n",
    "import sympy.core.numbers\n",
    "\n",
    "from sympy import symbols, sin, cos, tan, exp, log, symbols, lambdify"
   ],
   "id": "9d1e347d782d05c0",
   "outputs": [],
   "execution_count": 155
  },
  {
   "metadata": {
    "ExecuteTime": {
     "end_time": "2024-06-06T07:45:43.363790Z",
     "start_time": "2024-06-06T07:45:43.359765Z"
    }
   },
   "cell_type": "code",
   "source": "xx = 0.0001 # критерий останова ",
   "id": "2a4f5dd2960abf95",
   "outputs": [],
   "execution_count": 156
  },
  {
   "metadata": {},
   "cell_type": "markdown",
   "source": "# Метод Бисекцйий ",
   "id": "aa6903ab2ca63ad"
  },
  {
   "metadata": {
    "ExecuteTime": {
     "end_time": "2024-06-06T07:46:22.614816Z",
     "start_time": "2024-06-06T07:46:22.609006Z"
    }
   },
   "cell_type": "code",
   "source": [
    "def bisection_method(func, start, end, tol=xx):\n",
    "    \n",
    "    if func.subs(\"x\", start) * func.subs(\"x\", end) >= 0:\n",
    "        return None\n",
    "    \n",
    "    x_i = 0\n",
    "    while (start - end) > tol:\n",
    "        cent = (end - start) / 2\n",
    "        x_i = start + cent\n",
    "        \n",
    "        if np.sign(func.subs(\"x\", start)) != np.sign(func.subs(\"x\", x_i)):\n",
    "            end = x_i\n",
    "        else:\n",
    "            start = x_i\n",
    "            \n",
    "    return x_i"
   ],
   "id": "c63d9caf7b8bc104",
   "outputs": [],
   "execution_count": 166
  },
  {
   "metadata": {},
   "cell_type": "markdown",
   "source": "# Метод Ньютона \n",
   "id": "32fdd0cebdead60a"
  },
  {
   "metadata": {
    "ExecuteTime": {
     "end_time": "2024-06-06T07:45:43.400133Z",
     "start_time": "2024-06-06T07:45:43.394593Z"
    }
   },
   "cell_type": "code",
   "source": [
    "def newton_method(func, start, tol=xx):\n",
    "    x = symbols('x')\n",
    "    \n",
    "    if func.subs(\"x\", start) * func.subs(\"x\", start + tol) >= 0:\n",
    "        return None\n",
    "    \n",
    "    \n",
    "    c = start        \n",
    "\n",
    "    while abs(func.subs(\"x\", c)) > tol:\n",
    "           \n",
    "        c = c - (func.subs(\"x\", c) / - func.diff(x).subs(\"x\", c))\n",
    "            \n",
    "    return c"
   ],
   "id": "82607cfb5793105a",
   "outputs": [],
   "execution_count": 158
  },
  {
   "metadata": {},
   "cell_type": "markdown",
   "source": "# Метод Простых итераций ",
   "id": "254bbe049451d2b"
  },
  {
   "metadata": {
    "ExecuteTime": {
     "end_time": "2024-06-06T07:45:43.415828Z",
     "start_time": "2024-06-06T07:45:43.410050Z"
    }
   },
   "cell_type": "code",
   "source": [
    "def simple_iteration_method(func, start, tol=xx):\n",
    "    if func.subs(\"x\", start) * func.subs(\"x\", start + tol) >= 0:\n",
    "        return None\n",
    "\n",
    "    c = start\n",
    "      \n",
    "    while abs(func.subs(\"x\", c)) > tol:\n",
    "    \n",
    "        c = c - (func.subs(\"x\", c) / func.subs(\"x\", c + 1))\n",
    "        \n",
    "    return c"
   ],
   "id": "b79dc7e86608a5c5",
   "outputs": [],
   "execution_count": 159
  },
  {
   "metadata": {},
   "cell_type": "markdown",
   "source": "# Метод Хорд \n",
   "id": "da88c8ca74d70a82"
  },
  {
   "metadata": {
    "ExecuteTime": {
     "end_time": "2024-06-06T07:45:43.435257Z",
     "start_time": "2024-06-06T07:45:43.427274Z"
    }
   },
   "cell_type": "code",
   "source": [
    "def chord_method(func, start, end, tol=xx):\n",
    "    if func.subs(\"x\", start) * func.subs(\"x\", end) >= 0:\n",
    "        return None\n",
    "    \n",
    "      \n",
    "    while True:                  \n",
    "        c = (start * func.subs(\"x\", end) - end * func.subs(\"x\", start)) / (func.subs(\"x\", end) - func.subs(\"x\", start))\n",
    "        \n",
    "        if func.subs(\"x\", start) * func.subs(\"x\", end) < 0:\n",
    "            end = c\n",
    "        else:\n",
    "            start = c\n",
    "            \n",
    "        \n",
    "        if abs(end - start) < tol:\n",
    "                break\n",
    "            \n",
    "    return c"
   ],
   "id": "8809e05d311a655c",
   "outputs": [],
   "execution_count": 160
  },
  {
   "metadata": {},
   "cell_type": "markdown",
   "source": "# Генератор приделов",
   "id": "6be3ad61fdc8baf5"
  },
  {
   "metadata": {
    "ExecuteTime": {
     "end_time": "2024-06-06T07:45:43.455349Z",
     "start_time": "2024-06-06T07:45:43.449274Z"
    }
   },
   "cell_type": "code",
   "source": [
    "def random_start_end():\n",
    "    \n",
    "    def random_num(a = -10, b = 10):\n",
    "        return int(random.uniform(a, b))\n",
    "    \n",
    "    start = random_num()\n",
    "    end = random_num()\n",
    "    \n",
    "    if start > end:\n",
    "        \n",
    "        if end < 0:\n",
    "            end = random_num(0, 5)\n",
    "            \n",
    "        while start > end and abs(start - end) > 2:\n",
    "            start = random_num()\n",
    "            \n",
    "    return start, end"
   ],
   "id": "f83f2c2c2a32f5f9",
   "outputs": [],
   "execution_count": 161
  },
  {
   "metadata": {},
   "cell_type": "markdown",
   "source": "# Гененрация любой функции\n",
   "id": "d77582c86ae6c3aa"
  },
  {
   "metadata": {
    "ExecuteTime": {
     "end_time": "2024-06-06T07:45:43.508374Z",
     "start_time": "2024-06-06T07:45:43.495395Z"
    }
   },
   "cell_type": "code",
   "source": [
    "def generate_random_function(complexity=8):\n",
    "\n",
    "    x = symbols('x')\n",
    "\n",
    "    functions = [sin, cos, tan, log, exp]\n",
    "    operators = ['+', '-', '*', '/', '**']\n",
    "\n",
    "    function_args = [x]\n",
    "\n",
    "    if complexity <= 0:\n",
    "        return x + random.choice(operators) + random.randint(1, 10)\n",
    "\n",
    "    expr = random.choice(function_args) #x\n",
    "    new_expr = 0\n",
    "\n",
    "    for _ in range(complexity - 1):\n",
    "\n",
    "        if random.random() < 0.5:\n",
    "            op = random.choice(operators)\n",
    "            func = random.choice(functions)\n",
    "            if op in ['+', '-']:\n",
    "                num = random.randint(4, 10)\n",
    "                new_expr = op.join([str(expr), str(num), str(func(x)).replace(\"x\", \"\")])\n",
    "            elif op == '*':\n",
    "                num = random.choice([2, 6, 5, 7])\n",
    "                new_expr = op.join([str(expr), str(num), str(func(x)).replace(\"x\", \"\")])\n",
    "            elif op == '/':\n",
    "                num = random.choice([8, 3, 5, 7])\n",
    "                new_expr = op.join([str(expr), str(num)])\n",
    "            elif op == '**':\n",
    "                num = random.choice([3,4,6,5])\n",
    "                new_expr = op.join([str(expr), str(num)])\n",
    "\n",
    "        else:\n",
    "            func = random.choice(functions)\n",
    "            try:\n",
    "                if func in [sin, cos, log]:\n",
    "                    new_expr = func(expr)\n",
    "                elif func == log:\n",
    "                    new_expr = func(expr)\n",
    "                elif func == exp:\n",
    "                    new_expr = func(expr, random.randint(1, 4))\n",
    "            except TypeError:\n",
    "                return \" \"\n",
    "\n",
    "        expr = new_expr\n",
    "    return expr\n",
    "# def generate_random_function(complexity=8):\n",
    "# \n",
    "#     x = symbols('x')\n",
    "# \n",
    "#     functions = [sin, cos, exp, log]  # Удалены tan и другие функции, которые могут не иметь корней\n",
    "# \n",
    "#     operators = ['+', '-', '*', '/', '**']\n",
    "# \n",
    "#     expr = x\n",
    "# \n",
    "#     for _ in range(complexity):\n",
    "# \n",
    "#         if random.random() < 0.5:\n",
    "# \n",
    "#             op = random.choice(operators)\n",
    "# \n",
    "#             if op in ['+', '-']:\n",
    "# \n",
    "#                 expr = op.join([str(expr), str(random.randint(1, 10))])\n",
    "# \n",
    "#             elif op in ['*', '/', '**']:\n",
    "# \n",
    "#                 expr = op.join([str(expr), str(random.choice([2, 3, 5, 7]))])\n",
    "# \n",
    "#         else:\n",
    "# \n",
    "#             func = random.choice(functions)\n",
    "# \n",
    "#             expr = func(expr)\n",
    "#             \n",
    "#     return expr\n",
    "   "
   ],
   "id": "964f835f763ea93f",
   "outputs": [],
   "execution_count": 162
  },
  {
   "metadata": {
    "ExecuteTime": {
     "end_time": "2024-06-06T07:45:43.522439Z",
     "start_time": "2024-06-06T07:45:43.516986Z"
    }
   },
   "cell_type": "code",
   "source": [
    "def has_root(func, start, end):\n",
    "\n",
    "    # Проверка, что функция меняет знак на интервале [start, end]\n",
    "\n",
    "    return func.subs('x', start) * func.subs('x', end) < 0\n"
   ],
   "id": "a5eaa61c849dbc4c",
   "outputs": [],
   "execution_count": 163
  },
  {
   "metadata": {},
   "cell_type": "markdown",
   "source": "#f",
   "id": "9d3fada8939b31a1"
  },
  {
   "metadata": {
    "ExecuteTime": {
     "end_time": "2024-06-06T07:53:04.030208Z",
     "start_time": "2024-06-06T07:53:04.030043Z"
    }
   },
   "cell_type": "code",
   "source": [
    "# def main():\n",
    "#     count = 0\n",
    "#     mass = []\n",
    "#     start_time = time.time()\n",
    "#     \n",
    "#     while True:  # Генерируем 5 случайных функций\n",
    "# \n",
    "#         func = generate_random_function(complexity=random.randint(5, 7))\n",
    "#         if func not in (\" \", sympy.core.numbers.NaN, sympy.core.numbers.nan, sympy.core.numbers.ComplexInfinity, sympy.core.numbers.zoo):\n",
    "#             str_ = str(func)\n",
    "#             delimiters = ['+', '-', '*', '/', '**','(',')','x']\n",
    "#             \n",
    "#             for delimiter in delimiters:\n",
    "#                 str_ = \" \".join(str_.split(delimiter))\n",
    "#                 \n",
    "#             result = str_.split()\n",
    "#             \n",
    "#             if len(result) == len(set(result)):\n",
    "#                 if func not in mass and type(func) != str and type(func) != int and  len(str(func)) <= 40 and 'ep' not in result:\n",
    "# \n",
    "#                     start , end = 0, 2\n",
    "#                    \n",
    "#                     try:\n",
    "#             \n",
    "#                         root_newton = newton_method(func, start)\n",
    "#             \n",
    "#                         root_simple_iter = simple_iteration_method(func, start)\n",
    "#             \n",
    "#                         root_chord = chord_method(func, start, end)\n",
    "#                         root_bisection = bisection_method(func, start=start, end=end,tol=xx)\n",
    "#                         \n",
    "#                         if root_bisection is not None:\n",
    "#                             print(1)\n",
    "#                             root_newton = newton_method(func, start=start, tol=xx)\n",
    "#                             if root_newton is not None:\n",
    "#                                 print(2)\n",
    "#                                 root_simple_iter = simple_iteration_method(func, start=start, tol=xx)\n",
    "#                                 if root_simple_iter is not None:\n",
    "#                                     print(3)\n",
    "#                                     root_chord = chord_method(func, start=start, end=end)\n",
    "#                                     if root_chord is None:\n",
    "#                                         print(4)    \n",
    "#                                         \n",
    "#                         mass.append([func, start, end, root_bisection, root_newton, root_simple_iter, root_chord])\n",
    "#                         count += 1\n",
    "#                         \n",
    "#                     except (TypeError):\n",
    "#                         pass\n",
    "#                         # print(\"-----------------\")\n",
    "#                         # print(func)\n",
    "#                         # print(start)\n",
    "#                         # print(end)\n",
    "#                         # print(\"-----------------\")\n",
    "#         # Преобразуем функцию в объект, который можно вычислять\n",
    "#         # func_lambdified = lambdify((\"x\"), func, \"numpy\")\n",
    "#         # print(f\"Значение функции в точке (1, 2): {func_lambdified(1)}\")\n",
    "#         \n",
    "#     \n",
    "#         if count == 10:\n",
    "#             break\n",
    "#     print(mass)\n",
    "# \n",
    "#     print(\"--- %s seconds ---\" % (time.time() - start_time))\n",
    "#     for i in range(len(mass)):\n",
    "#         print(mass[i])\n",
    "def main():\n",
    "\n",
    "\n",
    "    count = 0\n",
    "\n",
    "    mass = []\n",
    "\n",
    "    start_time = time.time()\n",
    "\n",
    "\n",
    "    while count < 1:\n",
    "\n",
    "        func = generate_random_function(complexity=random.randint(3, 5))\n",
    "        \n",
    "        start, end = random_start_end()\n",
    "        if func not in (\" \", sympy.core.numbers.NaN, sympy.core.numbers.nan, sympy.core.numbers.ComplexInfinity, sympy.core.numbers.zoo)\\\n",
    "                and type(func) != str and type(func) != int:\n",
    "            try:\n",
    "                if has_root(func, start, end):\n",
    "        \n",
    "                    root_bisection = bisection_method(func, start, end)\n",
    "        \n",
    "                    if root_bisection is not None and root_bisection != 0:\n",
    "                        root_newton = newton_method(func, start)\n",
    "                        root_simple_iter = simple_iteration_method(func, start)\n",
    "                        # root_chord = chord_method(func, start, end)\n",
    "        \n",
    "                        mass.append([func, start, end, root_bisection, root_newton, root_simple_iter])\n",
    "        \n",
    "                        count += 1\n",
    "            except TypeError:\n",
    "                pass\n",
    "\n",
    "\n",
    "    print(mass)\n",
    "\n",
    "    print(\"--- %s seconds ---\" % (time.time() - start_time))\n",
    "\n",
    "    for i in range(len(mass)):\n",
    "\n",
    "        print(mass[i])"
   ],
   "id": "15a1af9987bc64e9",
   "outputs": [],
   "execution_count": null
  },
  {
   "metadata": {
    "jupyter": {
     "is_executing": true
    },
    "ExecuteTime": {
     "start_time": "2024-06-06T07:53:09.632877Z"
    }
   },
   "cell_type": "code",
   "source": "main()",
   "id": "19db292b715d4d83",
   "outputs": [],
   "execution_count": null
  },
  {
   "metadata": {
    "ExecuteTime": {
     "end_time": "2024-06-06T07:46:27.112075Z",
     "start_time": "2024-06-06T07:46:27.106399Z"
    }
   },
   "cell_type": "code",
   "source": [
    "def true_fun():\n",
    "    def func(x):\n",
    "        return  np.cos(x) - x\n",
    "    \n",
    "    root_bisection = bisection_method(func, start=0, end=1,tol=xx)\n",
    "    \n",
    "    root_newton = newton_method(func, 0.5)\n",
    "\n",
    "    root_simple_iter = simple_iteration_method(func, 0)\n",
    "\n",
    "    root_chord = chord_method(func, 0, 1)\n",
    "    \n",
    "    print(root_bisection, root_newton, root_simple_iter, root_chord)\n",
    "    \n",
    "    \n",
    "    print()"
   ],
   "id": "76a01abdcb0a0010",
   "outputs": [],
   "execution_count": 167
  },
  {
   "metadata": {
    "ExecuteTime": {
     "end_time": "2024-06-06T07:46:29.763918Z",
     "start_time": "2024-06-06T07:46:29.703530Z"
    }
   },
   "cell_type": "code",
   "source": "true_fun()",
   "id": "259126524d448b0b",
   "outputs": [
    {
     "ename": "AttributeError",
     "evalue": "'function' object has no attribute 'subs'",
     "output_type": "error",
     "traceback": [
      "\u001B[0;31m---------------------------------------------------------------------------\u001B[0m",
      "\u001B[0;31mAttributeError\u001B[0m                            Traceback (most recent call last)",
      "Cell \u001B[0;32mIn[170], line 1\u001B[0m\n\u001B[0;32m----> 1\u001B[0m \u001B[43mtrue_fun\u001B[49m\u001B[43m(\u001B[49m\u001B[43m)\u001B[49m\n",
      "Cell \u001B[0;32mIn[167], line 5\u001B[0m, in \u001B[0;36mtrue_fun\u001B[0;34m()\u001B[0m\n\u001B[1;32m      2\u001B[0m \u001B[38;5;28;01mdef\u001B[39;00m \u001B[38;5;21mfunc\u001B[39m(x):\n\u001B[1;32m      3\u001B[0m     \u001B[38;5;28;01mreturn\u001B[39;00m  np\u001B[38;5;241m.\u001B[39mcos(x) \u001B[38;5;241m-\u001B[39m x\n\u001B[0;32m----> 5\u001B[0m root_bisection \u001B[38;5;241m=\u001B[39m \u001B[43mbisection_method\u001B[49m\u001B[43m(\u001B[49m\u001B[43mfunc\u001B[49m\u001B[43m,\u001B[49m\u001B[43m \u001B[49m\u001B[43mstart\u001B[49m\u001B[38;5;241;43m=\u001B[39;49m\u001B[38;5;241;43m0\u001B[39;49m\u001B[43m,\u001B[49m\u001B[43m \u001B[49m\u001B[43mend\u001B[49m\u001B[38;5;241;43m=\u001B[39;49m\u001B[38;5;241;43m1\u001B[39;49m\u001B[43m,\u001B[49m\u001B[43mtol\u001B[49m\u001B[38;5;241;43m=\u001B[39;49m\u001B[43mxx\u001B[49m\u001B[43m)\u001B[49m\n\u001B[1;32m      7\u001B[0m root_newton \u001B[38;5;241m=\u001B[39m newton_method(func, \u001B[38;5;241m0.5\u001B[39m)\n\u001B[1;32m      9\u001B[0m root_simple_iter \u001B[38;5;241m=\u001B[39m simple_iteration_method(func, \u001B[38;5;241m0\u001B[39m)\n",
      "Cell \u001B[0;32mIn[166], line 3\u001B[0m, in \u001B[0;36mbisection_method\u001B[0;34m(func, start, end, tol)\u001B[0m\n\u001B[1;32m      1\u001B[0m \u001B[38;5;28;01mdef\u001B[39;00m \u001B[38;5;21mbisection_method\u001B[39m(func, start, end, tol\u001B[38;5;241m=\u001B[39mxx):\n\u001B[0;32m----> 3\u001B[0m     \u001B[38;5;28;01mif\u001B[39;00m \u001B[43mfunc\u001B[49m\u001B[38;5;241;43m.\u001B[39;49m\u001B[43msubs\u001B[49m(\u001B[38;5;124m\"\u001B[39m\u001B[38;5;124mx\u001B[39m\u001B[38;5;124m\"\u001B[39m, start) \u001B[38;5;241m*\u001B[39m func\u001B[38;5;241m.\u001B[39msubs(\u001B[38;5;124m\"\u001B[39m\u001B[38;5;124mx\u001B[39m\u001B[38;5;124m\"\u001B[39m, end) \u001B[38;5;241m>\u001B[39m\u001B[38;5;241m=\u001B[39m \u001B[38;5;241m0\u001B[39m:\n\u001B[1;32m      4\u001B[0m         \u001B[38;5;28;01mreturn\u001B[39;00m \u001B[38;5;28;01mNone\u001B[39;00m\n\u001B[1;32m      6\u001B[0m     x_i \u001B[38;5;241m=\u001B[39m \u001B[38;5;241m0\u001B[39m\n",
      "\u001B[0;31mAttributeError\u001B[0m: 'function' object has no attribute 'subs'"
     ]
    }
   ],
   "execution_count": 170
  },
  {
   "metadata": {},
   "cell_type": "code",
   "source": "",
   "id": "c5bb31814affa8a5",
   "outputs": [],
   "execution_count": null
  }
 ],
 "metadata": {
  "kernelspec": {
   "display_name": "Python 3",
   "language": "python",
   "name": "python3"
  },
  "language_info": {
   "codemirror_mode": {
    "name": "ipython",
    "version": 2
   },
   "file_extension": ".py",
   "mimetype": "text/x-python",
   "name": "python",
   "nbconvert_exporter": "python",
   "pygments_lexer": "ipython2",
   "version": "2.7.6"
  }
 },
 "nbformat": 4,
 "nbformat_minor": 5
}
